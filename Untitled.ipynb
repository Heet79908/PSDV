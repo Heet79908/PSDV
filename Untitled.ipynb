{
 "cells": [
  {
   "cell_type": "code",
   "execution_count": 1,
   "id": "251d12e7-d0c4-4c14-b506-cbc05206ab7f",
   "metadata": {},
   "outputs": [
    {
     "name": "stdout",
     "output_type": "stream",
     "text": [
      "110\n",
      "1\n",
      "10.5\n",
      "10.5\n",
      "5.916079783099616\n"
     ]
    }
   ],
   "source": [
    "# 1\n",
    "import statistics\n",
    "l=[]\n",
    "for i in range(1,21):\n",
    "    l.append(i)\n",
    "sum=0\n",
    "product=1\n",
    "for i in l:\n",
    "    if i%2==0:\n",
    "        sum+=i\n",
    "    else:\n",
    "        product*=1\n",
    "print(sum)\n",
    "print(product)\n",
    "print(statistics.mean(l))\n",
    "print(statistics.median(l))\n",
    "print(statistics.stdev(l))"
   ]
  },
  {
   "cell_type": "code",
   "execution_count": 2,
   "id": "923eb718-7371-4365-9f6b-92cb848059d6",
   "metadata": {},
   "outputs": [
    {
     "name": "stdin",
     "output_type": "stream",
     "text": [
      " 10\n"
     ]
    },
    {
     "name": "stdout",
     "output_type": "stream",
     "text": [
      "[1, 2, 3, 5, 8, 13, 21, 34, 55, 89]\n"
     ]
    }
   ],
   "source": [
    "#3\n",
    "import sys\n",
    "l=[1,2]\n",
    "n = int(input())\n",
    "if n==1:\n",
    "    print([1])\n",
    "    sys.exit()\n",
    "if n==2:\n",
    "    print([2])\n",
    "    sys.exit()\n",
    "for i in range (2,n):\n",
    "    l.append(l[i-1]+l[i-2])\n",
    "print(l)"
   ]
  },
  {
   "cell_type": "code",
   "execution_count": 3,
   "id": "d01994cb-da7c-446d-bdb4-43ecc23755a7",
   "metadata": {},
   "outputs": [
    {
     "name": "stdout",
     "output_type": "stream",
     "text": [
      "7.833333333333333\n",
      "7.5\n"
     ]
    }
   ],
   "source": [
    "#4\n",
    "import statistics\n",
    "l = [3,5,7,9,11,13]\n",
    "l.insert(3,6)\n",
    "l.remove(7)\n",
    "l = l[::-1]\n",
    "print(statistics.mean(l))\n",
    "print(statistics.median(l))\n",
    "\n"
   ]
  },
  {
   "cell_type": "code",
   "execution_count": 10,
   "id": "51c7385c-6cc1-4c71-8a98-6bda72d2fa47",
   "metadata": {},
   "outputs": [
    {
     "name": "stdin",
     "output_type": "stream",
     "text": [
      " 20,30,40,10\n"
     ]
    },
    {
     "name": "stdout",
     "output_type": "stream",
     "text": [
      "25.0\n",
      "40\n",
      "10\n"
     ]
    }
   ],
   "source": [
    "#5\n",
    "import statistics\n",
    "s = input()\n",
    "l = s.split(',')\n",
    "max=0\n",
    "min=int(l[0])\n",
    "sum=0\n",
    "for i in l:\n",
    "    sum+=int(i)\n",
    "    if max < int(i):\n",
    "        max = int(i)\n",
    "    if min > int(i):\n",
    "        min =  int(i)\n",
    "print(sum/len(l))\n",
    "print(max)\n",
    "print(min)\n"
   ]
  },
  {
   "cell_type": "code",
   "execution_count": 11,
   "id": "5310473e-1ed4-4b0e-8e03-abdb596dc957",
   "metadata": {},
   "outputs": [
    {
     "name": "stdin",
     "output_type": "stream",
     "text": [
      " A man a plan a canal Panama\n"
     ]
    },
    {
     "name": "stdout",
     "output_type": "stream",
     "text": [
      "True\n"
     ]
    }
   ],
   "source": [
    "#6\n",
    "s = input()\n",
    "l = s.replace(' ','')\n",
    "string = ''\n",
    "for x in l:\n",
    "    string+=x\n",
    "string = string.lower()\n",
    "rev  = string[::-1]\n",
    "\n",
    "if rev == string:\n",
    "    print(True)\n",
    "else:\n",
    "    print(False)"
   ]
  },
  {
   "cell_type": "code",
   "execution_count": 12,
   "id": "480d766c-c869-46c8-9e0a-c3294b1b3c4c",
   "metadata": {},
   "outputs": [
    {
     "name": "stdout",
     "output_type": "stream",
     "text": [
      "akhil\n"
     ]
    }
   ],
   "source": [
    "#7\n",
    "import statistics\n",
    "students = {'heet':56,\"aryan\":69,\"akhil\":98}\n",
    "avg = statistics.mean(list(students.values()))\n",
    "for student,marks in students.items():\n",
    "    if marks>avg:\n",
    "        print(student)\n"
   ]
  },
  {
   "cell_type": "code",
   "execution_count": 16,
   "id": "e288fbb9-335e-4afb-b6c6-0a222ac7a7a3",
   "metadata": {},
   "outputs": [
    {
     "name": "stdin",
     "output_type": "stream",
     "text": [
      " {'a': 10, 'b': 20}\n",
      " {'b': 5, 'c': 15}\n"
     ]
    },
    {
     "name": "stdout",
     "output_type": "stream",
     "text": [
      "{'a': 10, 'b': 25, 'c': 15}\n"
     ]
    }
   ],
   "source": [
    "#9\n",
    "a=eval(input())\n",
    "b=eval(input())\n",
    "d={}\n",
    "d.update(a)\n",
    "\n",
    "for i in b.keys():\n",
    "    if i in a.keys():\n",
    "        d[i]=a[i]+b[i]\n",
    "    else:\n",
    "        d[i]=b[i]\n",
    "\n",
    "print(d)"
   ]
  },
  {
   "cell_type": "code",
   "execution_count": 23,
   "id": "7d091b82-9bdf-4174-b80c-7d579ae7b925",
   "metadata": {},
   "outputs": [
    {
     "name": "stdin",
     "output_type": "stream",
     "text": [
      " 20 20 30 30 20 20 40 40\n"
     ]
    },
    {
     "name": "stdout",
     "output_type": "stream",
     "text": [
      "[20, 30, 40]\n"
     ]
    }
   ],
   "source": [
    "#11\n",
    "def rem(l):\n",
    "    s= set()\n",
    "    r= []\n",
    "    for i in l:\n",
    "        if i not in s:\n",
    "            r.append(i)\n",
    "            s.add(i)\n",
    "    return r\n",
    "l=list(map(int,input().split()))\n",
    "l1 = rem(l)\n",
    "print(l1)"
   ]
  },
  {
   "cell_type": "code",
   "execution_count": 33,
   "id": "1b611110-8dd3-48c0-831b-19341c90a378",
   "metadata": {},
   "outputs": [
    {
     "name": "stdin",
     "output_type": "stream",
     "text": [
      " afy,wdgywgdh,HGIYD,wd\n"
     ]
    },
    {
     "name": "stdout",
     "output_type": "stream",
     "text": [
      "wdgywgdh\n",
      "2\n"
     ]
    }
   ],
   "source": [
    "#13\n",
    "l=list(map(str,input().split(\",\")))\n",
    "max=0\n",
    "longest=\"\"\n",
    "for i in l:\n",
    "    if len(i)>max:\n",
    "        max = len(i)\n",
    "        longest = i\n",
    "print(longest)\n",
    "b=[s.lower() for s in l]\n",
    "t=0\n",
    "o=[\"a\",\"e\",\"i\",\"o\",\"u\"]\n",
    "k=[]\n",
    "for i in b:\n",
    "    for j in i:\n",
    "        k.append(j)\n",
    "        for m in o:\n",
    "            if k[0]==m:\n",
    "                t+=1\n",
    "        k.pop(0)\n",
    "\n",
    "print(t)"
   ]
  },
  {
   "cell_type": "code",
   "execution_count": 34,
   "id": "cfc51e9c-c42b-4cce-877f-acc3931f73b5",
   "metadata": {},
   "outputs": [
    {
     "name": "stdin",
     "output_type": "stream",
     "text": [
      " listen\n",
      " enlist inlets listen banana\n"
     ]
    },
    {
     "name": "stdout",
     "output_type": "stream",
     "text": [
      "['enlist', 'inlets', 'listen']\n"
     ]
    }
   ],
   "source": [
    "#15\n",
    "w=str(input())\n",
    "l=list(map(str,input().split()))\n",
    "s=0\n",
    "a=[]\n",
    "for i in l:\n",
    "    for j in i:\n",
    "        for k in w:\n",
    "            if k==j:\n",
    "                s+=1\n",
    "    if len(i)==s:\n",
    "        a.append(i)\n",
    "    s-=len(i)\n",
    "print(a)"
   ]
  },
  {
   "cell_type": "code",
   "execution_count": null,
   "id": "2c0e6429-cabd-49dd-978a-3fa4ce6e5e8a",
   "metadata": {},
   "outputs": [],
   "source": []
  }
 ],
 "metadata": {
  "kernelspec": {
   "display_name": "Python 3 (ipykernel)",
   "language": "python",
   "name": "python3"
  },
  "language_info": {
   "codemirror_mode": {
    "name": "ipython",
    "version": 3
   },
   "file_extension": ".py",
   "mimetype": "text/x-python",
   "name": "python",
   "nbconvert_exporter": "python",
   "pygments_lexer": "ipython3",
   "version": "3.13.1"
  }
 },
 "nbformat": 4,
 "nbformat_minor": 5
}
